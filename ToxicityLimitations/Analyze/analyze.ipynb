{
 "cells": [
  {
   "cell_type": "code",
   "execution_count": 4,
   "id": "8d420dae",
   "metadata": {},
   "outputs": [],
   "source": [
    "import pandas as pd\n"
   ]
  },
  {
   "cell_type": "code",
   "execution_count": 6,
   "id": "b6a76916",
   "metadata": {},
   "outputs": [
    {
     "name": "stdout",
     "output_type": "stream",
     "text": [
      "       Unnamed: 0 ToxicityBinary  Toxicity IdentityAttack Insult Profanity  \\\n",
      "0               0             No       0.2              0    0.5       0.3   \n",
      "1               1             No       0.2              0    0.5       0.3   \n",
      "2               2             No       0.5            0.2    0.8       0.1   \n",
      "3               3             No       0.3            0.2    0.1       0.1   \n",
      "4               4            Yes       1.0              0      1         1   \n",
      "...           ...            ...       ...            ...    ...       ...   \n",
      "55017       55017            Yes       1.0            0.5    0.8       0.2   \n",
      "55018       55018            Yes       1.0            0.5    0.8       0.2   \n",
      "55019       55019            Yes       1.0            0.5   0.75      0.25   \n",
      "55020       55020            Yes       1.0            0.5   0.75         1   \n",
      "55021       55021            Yes       1.0              0      1         1   \n",
      "\n",
      "      Threat SevereToxicity  \\\n",
      "0        0.1            0.4   \n",
      "1          0            0.1   \n",
      "2        0.1            0.3   \n",
      "3        0.1            0.4   \n",
      "4          0              1   \n",
      "...      ...            ...   \n",
      "55017    0.3              1   \n",
      "55018    0.3              1   \n",
      "55019      0              1   \n",
      "55020   0.25              1   \n",
      "55021      0              1   \n",
      "\n",
      "                                           Justification  message_id  \\\n",
      "0       The message contains a compliment directed at...  30428464_2   \n",
      "1       The message contains a reference to a septic ...         500   \n",
      "2       The message contains insults (\"picks on old m...        1942   \n",
      "3       The content of this message could be interpre...         645   \n",
      "4       The message contains profanity and an insult ...        1766   \n",
      "...                                                  ...         ...   \n",
      "55017   The message contains insults and profanity, s...         NaN   \n",
      "55018   This message contains severe toxicity, includ...         NaN   \n",
      "55019   The message contains several hateful and disr...         NaN   \n",
      "55020   The message contains insults and profanities,...         NaN   \n",
      "55021   The content includes insults and profanities ...         NaN   \n",
      "\n",
      "                                                    text  \n",
      "0                         the german men sound so sexy .  \n",
      "1                                   like a septic tank .  \n",
      "2      uk pensioner faces lashes in saudi arabia why ...  \n",
      "3      #burundi  nkurunziza  s envoy to the un now re...  \n",
      "4          fuk that i burned a qu ran and pissed on it .  \n",
      "...                                                  ...  \n",
      "55017  dems gave gays and lesbians special rights and...  \n",
      "55018  dems gave gays and lesbians special rights and...  \n",
      "55019  dems gave gays and lesbians special rights and...  \n",
      "55020  dems gave gays and lesbians special rights and...  \n",
      "55021  dems gave gays and lesbians special rights and...  \n",
      "\n",
      "[55022 rows x 11 columns]\n"
     ]
    }
   ],
   "source": [
    "df = pd.read_csv('../../../results/Subtle/aya.csv')\n",
    "print(df)"
   ]
  }
 ],
 "metadata": {
  "kernelspec": {
   "display_name": "Python 3",
   "language": "python",
   "name": "python3"
  },
  "language_info": {
   "codemirror_mode": {
    "name": "ipython",
    "version": 3
   },
   "file_extension": ".py",
   "mimetype": "text/x-python",
   "name": "python",
   "nbconvert_exporter": "python",
   "pygments_lexer": "ipython3",
   "version": "3.12.0"
  }
 },
 "nbformat": 4,
 "nbformat_minor": 5
}
